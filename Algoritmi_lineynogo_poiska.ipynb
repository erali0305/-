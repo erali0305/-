{
  "nbformat": 4,
  "nbformat_minor": 0,
  "metadata": {
    "colab": {
      "name": "Algoritmi-lineynogo poiska.ipynb",
      "provenance": [],
      "collapsed_sections": [],
      "authorship_tag": "ABX9TyO5iGj+thPd4IUa9AmDwL6c",
      "include_colab_link": true
    },
    "kernelspec": {
      "name": "python3",
      "display_name": "Python 3"
    }
  },
  "cells": [
    {
      "cell_type": "markdown",
      "metadata": {
        "id": "view-in-github",
        "colab_type": "text"
      },
      "source": [
        "<a href=\"https://colab.research.google.com/github/erali0305/-/blob/master/Algoritmi_lineynogo_poiska.ipynb\" target=\"_parent\"><img src=\"https://colab.research.google.com/assets/colab-badge.svg\" alt=\"Open In Colab\"/></a>"
      ]
    },
    {
      "cell_type": "code",
      "metadata": {
        "id": "EHn4yhM2LiPh",
        "colab_type": "code",
        "outputId": "1cad592f-b6ae-4e11-b76b-ca95b9ff5886",
        "colab": {
          "base_uri": "https://localhost:8080/",
          "height": 51
        }
      },
      "source": [
        "def linear_search(values, search_for):\n",
        "    search_at = 0\n",
        "    search_res = False\n",
        "\n",
        "    while search_at < len(values) and search_res is False:\n",
        "        if values[search_at] == search_for:\n",
        "            search_res = True\n",
        "        else:\n",
        "            search_at = search_at + 1\n",
        "\n",
        "    return search_res\n",
        "\n",
        "l = [64, 34, 48, 25, 12, 22, 11, 90]\n",
        "print(linear_search(l, 25))\n",
        "print(linear_search(l, 91))\n"
      ],
      "execution_count": 12,
      "outputs": [
        {
          "output_type": "stream",
          "text": [
            "True\n",
            "False\n"
          ],
          "name": "stdout"
        }
      ]
    },
    {
      "cell_type": "code",
      "metadata": {
        "id": "4otu5qLQMMa3",
        "colab_type": "code",
        "colab": {}
      },
      "source": [
        ""
      ],
      "execution_count": 0,
      "outputs": []
    }
  ]
}