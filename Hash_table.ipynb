{
  "nbformat": 4,
  "nbformat_minor": 0,
  "metadata": {
    "colab": {
      "name": "Hash-table.ipynb",
      "provenance": [],
      "authorship_tag": "ABX9TyPzK3tqJeMO4n6b1BxFniFI",
      "include_colab_link": true
    },
    "kernelspec": {
      "name": "python3",
      "display_name": "Python 3"
    }
  },
  "cells": [
    {
      "cell_type": "markdown",
      "metadata": {
        "id": "view-in-github",
        "colab_type": "text"
      },
      "source": [
        "<a href=\"https://colab.research.google.com/github/erali0305/algorithm/blob/master/Hash_table.ipynb\" target=\"_parent\"><img src=\"https://colab.research.google.com/assets/colab-badge.svg\" alt=\"Open In Colab\"/></a>"
      ]
    },
    {
      "cell_type": "code",
      "metadata": {
        "id": "nBGcqZ9CBGe3",
        "colab_type": "code",
        "colab": {
          "base_uri": "https://localhost:8080/",
          "height": 136
        },
        "outputId": "17fdb83f-b73a-4da1-90da-9a37385802f5"
      },
      "source": [
        "from dataclasses import dataclass\n",
        "from typing import List\n",
        "\n",
        "\n",
        "@dataclass\n",
        "class TInfo:\n",
        "    phone: str = ''\n",
        "    family: str = ''\n",
        "    name: str = ''\n",
        "\n",
        "\n",
        "@dataclass\n",
        "class HashItem:\n",
        "    info: TInfo\n",
        "    empty: bool = True\n",
        "    visit: bool = False\n",
        "\n",
        "\n",
        "class Hash:\n",
        "    info: TInfo\n",
        "\n",
        "    def __init__(self, table_size=10):\n",
        "        self.table_size = table_size\n",
        "        self.info = TInfo()\n",
        "        self.hash_table = [HashItem(info=self.info) for _ in range(self.table_size)]\n",
        "        self.size = 0\n",
        "        self.step = 21\n",
        "\n",
        "    def __hash_function(self, value):\n",
        "        result = 0\n",
        "        for i in value:\n",
        "            result += ord(i)\n",
        "            result %= self.table_size\n",
        "        return result\n",
        "\n",
        "    def add_hash(self, name: str, family: str, phone: str) -> int:\n",
        "        adr = -1\n",
        "        if self.size < self.table_size:\n",
        "            adr = self.__hash_function(phone)\n",
        "            while not self.hash_table[adr].empty:\n",
        "                adr = (adr + self.step) % self.table_size\n",
        "            self.hash_table[adr].empty = False\n",
        "            self.hash_table[adr].visit = True\n",
        "            contact = TInfo(name=name, family=family, phone=phone)\n",
        "            self.hash_table[adr].info = contact\n",
        "            self.size += 1\n",
        "        return adr\n",
        "\n",
        "    def __clear_visit(self):\n",
        "        for i in self.hash_table:\n",
        "            i.visit = False\n",
        "\n",
        "    def find_hash(self, phone):\n",
        "        result = -1\n",
        "        ok: bool\n",
        "        fio = \"\"\n",
        "        count = 1\n",
        "        self.__clear_visit()\n",
        "        i = self.__hash_function(phone)\n",
        "        ok = self.hash_table[i].info.phone == phone\n",
        "        while not ok and not self.hash_table[i].visit:\n",
        "            count += 1\n",
        "            self.hash_table[i].visit = True\n",
        "            i = (i + self.step) % self.table_size\n",
        "            ok = self.hash_table[i].info.phone == phone\n",
        "        if ok:\n",
        "            result = i\n",
        "            fio = self.hash_table[result].info\n",
        "        return result, fio\n",
        "\n",
        "    def del_hash(self, phone):\n",
        "        result = False\n",
        "        i = 0\n",
        "        if self.size != 0:\n",
        "            i = self.__hash_function(phone)\n",
        "            if self.hash_table[i].info.phone == phone:\n",
        "                self.hash_table[i].empty = True\n",
        "                result = True\n",
        "                self.size -= 1\n",
        "            else:\n",
        "                i = self.find_hash(phone)\n",
        "                if i == -1:\n",
        "                    self.hash_table[i].empty = True\n",
        "                    result = True\n",
        "                    self.size -= 1\n",
        "        return result\n",
        "\n",
        "    def __str__(self):\n",
        "        out = \"{:<6}{:<20}{:<20}{:<20}\".format(\"N\", \"NAME\", \"FAMILY\", \"PHONE\") + '\\n'\n",
        "        for i in range(self.table_size):\n",
        "            name: str = self.hash_table[i].info.name\n",
        "            family = self.hash_table[i].info.family\n",
        "            phone = self.hash_table[i].info.phone\n",
        "            out += \"{:<6}{:<20}{:<20}{:<20}\".format(i + 1, name, family, phone) + '\\n'\n",
        "        return out\n",
        "        \n",
        "        \n",
        "if __name__  == \"__main__\":\n",
        "    s = Hash(5)\n",
        "    s.add_hash('Erali', 'Kholmurzaev', '565')\n",
        "    s.add_hash('Ruzimuhammad', 'Yakhubov', '656')\n",
        "    s.add_hash('O`ktam', 'Ortikboev', '123')\n",
        "    print(s)\n"
      ],
      "execution_count": 49,
      "outputs": [
        {
          "output_type": "stream",
          "text": [
            "N     NAME                FAMILY              PHONE               \n",
            "1     Erali               Kholmurzaev         565                 \n",
            "2     Ruzimuhammad        Yakhubov            656                 \n",
            "3     O`ktam              Ortikboev           123                 \n",
            "4                                                                 \n",
            "5                                                                 \n",
            "\n"
          ],
          "name": "stdout"
        }
      ]
    },
    {
      "cell_type": "code",
      "metadata": {
        "id": "F8V9pa3J9OCq",
        "colab_type": "code",
        "colab": {}
      },
      "source": [
        "\n"
      ],
      "execution_count": null,
      "outputs": []
    },
    {
      "cell_type": "code",
      "metadata": {
        "id": "MZ-UWCQbAptM",
        "colab_type": "code",
        "colab": {}
      },
      "source": [
        ""
      ],
      "execution_count": 15,
      "outputs": []
    }
  ]
}